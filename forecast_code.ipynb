{
 "cells": [
  {
   "cell_type": "code",
   "execution_count": null,
   "id": "c894d03f-6971-4db1-9b7c-6fde919ff0e3",
   "metadata": {},
   "outputs": [],
   "source": []
  }
 ],
 "metadata": {
  "kernelspec": {
   "display_name": "",
   "name": ""
  },
  "language_info": {
   "name": ""
  }
 },
 "nbformat": 4,
 "nbformat_minor": 5
}
